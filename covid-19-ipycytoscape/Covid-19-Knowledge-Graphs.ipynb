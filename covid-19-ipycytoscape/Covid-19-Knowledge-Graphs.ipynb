{
 "cells": [
  {
   "cell_type": "code",
   "execution_count": 1,
   "metadata": {},
   "outputs": [],
   "source": [
    "import ipycytoscape\n",
    "import covidkg as cvkg\n",
    "import pandas as pd\n",
    "from covidkg import Node, Edge, KnowledgeGraph"
   ]
  },
  {
   "cell_type": "code",
   "execution_count": 2,
   "metadata": {},
   "outputs": [],
   "source": [
    "nodes_data = pd.read_csv(\"data/nodes_data.csv\")\n",
    "interactions_data = pd.read_csv(\"data/interactions_data.csv\")\n",
    "tax_id = nodes_data[\"TaxonomyID\"].astype(str)\n",
    "href = \"https://www.uniprot.org/uniprot/\" + nodes_data[\"Identifier\"].str[8:14]"
   ]
  },
  {
   "cell_type": "code",
   "execution_count": 3,
   "metadata": {},
   "outputs": [],
   "source": [
    "kg = KnowledgeGraph()\n",
    "\n",
    "def create_nodes(n_name, n_id, kg):\n",
    "    for i in range(len(n_name)):\n",
    "        kg.add_node(Node(n_name[i], n_id[i], tax_id[i], href[i]))\n",
    "\n",
    "def create_edges(source, target, kg):\n",
    "    for i in range(len(source)):\n",
    "        kg.add_edge(Edge(Node(\"source_\" + str(i), source[i]), Node(\"target_\" + str(i), target[i])))\n",
    "        \n",
    "create_nodes(nodes_data[\"Name\"], nodes_data[\"ID\"], kg)\n",
    "\n",
    "create_edges(interactions_data[\"SARS_COV2_Protein_ID\"].values, interactions_data[\"Human_Protein_ID\"].values, kg)"
   ]
  },
  {
   "cell_type": "code",
   "execution_count": 4,
   "metadata": {},
   "outputs": [
    {
     "data": {
      "application/vnd.jupyter.widget-view+json": {
       "model_id": "05b1a3c346cb47ee8ca379a654e54121",
       "version_major": 2,
       "version_minor": 0
      },
      "text/plain": [
       "CytoscapeWidget(cytoscape_layout={'name': 'cola'}, cytoscape_style=[{'selector': 'node', 'css': {'content': 'd…"
      ]
     },
     "metadata": {},
     "output_type": "display_data"
    }
   ],
   "source": [
    "kg.load_graph()"
   ]
  }
 ],
 "metadata": {
  "kernelspec": {
   "display_name": "Python 3",
   "language": "python",
   "name": "python3"
  },
  "language_info": {
   "codemirror_mode": {
    "name": "ipython",
    "version": 3
   },
   "file_extension": ".py",
   "mimetype": "text/x-python",
   "name": "python",
   "nbconvert_exporter": "python",
   "pygments_lexer": "ipython3",
   "version": "3.7.7"
  }
 },
 "nbformat": 4,
 "nbformat_minor": 4
}
