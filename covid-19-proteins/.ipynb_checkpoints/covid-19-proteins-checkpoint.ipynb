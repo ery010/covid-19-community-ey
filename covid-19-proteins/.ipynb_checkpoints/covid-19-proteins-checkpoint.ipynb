{
 "cells": [
  {
   "cell_type": "code",
   "execution_count": 1,
   "metadata": {},
   "outputs": [],
   "source": [
    "import os\n",
    "import time\n",
    "import pandas as pd\n",
    "from py2neo import Graph\n",
    "import hashlib"
   ]
  },
  {
   "cell_type": "code",
   "execution_count": 2,
   "metadata": {},
   "outputs": [],
   "source": [
    "pd.options.display.max_rows = None  # display all rows\n",
    "pd.options.display.max_columns = None  # display all columns"
   ]
  },
  {
   "cell_type": "code",
   "execution_count": 3,
   "metadata": {},
   "outputs": [
    {
     "name": "stdout",
     "output_type": "stream",
     "text": [
      "C:\\Users\\ericy\\.Neo4jDesktop\\neo4jDatabases\\database-648d6182-7a2c-4fe8-b4cb-63ba7c4737da\\installation-4.0.3\n"
     ]
    }
   ],
   "source": [
    "NEO4J_HOME = os.getenv(\"NEO4J_HOME\")\n",
    "print(NEO4J_HOME)"
   ]
  },
  {
   "cell_type": "code",
   "execution_count": 4,
   "metadata": {},
   "outputs": [
    {
     "name": "stdout",
     "output_type": "stream",
     "text": [
      "Neo4j service started\n"
     ]
    }
   ],
   "source": [
    "!\"$NEO4J_HOME\"\\bin\\neo4j start"
   ]
  },
  {
   "cell_type": "code",
   "execution_count": 9,
   "metadata": {},
   "outputs": [],
   "source": [
    "!.\\run_cyphers_ey.sh"
   ]
  },
  {
   "cell_type": "code",
   "execution_count": 10,
   "metadata": {},
   "outputs": [],
   "source": [
    "def make_clickable(val):\n",
    "    return f'<a target=\"_blank\" href=\"{val}\">{val}</a>'"
   ]
  },
  {
   "cell_type": "code",
   "execution_count": 11,
   "metadata": {},
   "outputs": [],
   "source": [
    "graph = Graph(\"bolt://localhost:11006\", auth=(\"neo4j\", \"neo4jbinder\"))"
   ]
  },
  {
   "cell_type": "code",
   "execution_count": 12,
   "metadata": {},
   "outputs": [
    {
     "data": {
      "text/html": [
       "<div>\n",
       "<style scoped>\n",
       "    .dataframe tbody tr th:only-of-type {\n",
       "        vertical-align: middle;\n",
       "    }\n",
       "\n",
       "    .dataframe tbody tr th {\n",
       "        vertical-align: top;\n",
       "    }\n",
       "\n",
       "    .dataframe thead th {\n",
       "        text-align: right;\n",
       "    }\n",
       "</style>\n",
       "<table border=\"1\" class=\"dataframe\">\n",
       "  <thead>\n",
       "    <tr style=\"text-align: right;\">\n",
       "      <th></th>\n",
       "      <th>id</th>\n",
       "      <th>sars</th>\n",
       "      <th>h_id</th>\n",
       "    </tr>\n",
       "  </thead>\n",
       "  <tbody>\n",
       "    <tr>\n",
       "      <th>0</th>\n",
       "      <td>intact:EBI-25490454</td>\n",
       "      <td>375e0f905c315e06a99c80b736c125d2</td>\n",
       "      <td>uniprot:O00203</td>\n",
       "    </tr>\n",
       "    <tr>\n",
       "      <th>1</th>\n",
       "      <td>intact:EBI-25490478</td>\n",
       "      <td>1cd6abff79ad3633e17582eb0e576539</td>\n",
       "      <td>uniprot:Q9BW92</td>\n",
       "    </tr>\n",
       "    <tr>\n",
       "      <th>2</th>\n",
       "      <td>intact:EBI-25490637</td>\n",
       "      <td>5c2c364f44079728c451280435c4236a</td>\n",
       "      <td>uniprot:Q8NBJ5</td>\n",
       "    </tr>\n",
       "    <tr>\n",
       "      <th>3</th>\n",
       "      <td>intact:EBI-25490682</td>\n",
       "      <td>63d2c81f37726f44c600eb5225676a66</td>\n",
       "      <td>uniprot:O75347</td>\n",
       "    </tr>\n",
       "    <tr>\n",
       "      <th>4</th>\n",
       "      <td>intact:EBI-25490661</td>\n",
       "      <td>af0cec59296f3c845a7b04500cd6886b</td>\n",
       "      <td>uniprot:O94973</td>\n",
       "    </tr>\n",
       "    <tr>\n",
       "      <th>5</th>\n",
       "      <td>intact:EBI-25490691</td>\n",
       "      <td>b88e641d00c17a3ce19cc9852c37717c</td>\n",
       "      <td>uniprot:A3KN83</td>\n",
       "    </tr>\n",
       "    <tr>\n",
       "      <th>6</th>\n",
       "      <td>intact:EBI-25490757</td>\n",
       "      <td>a489cf148afc7205eec14549ffe4ebfd</td>\n",
       "      <td>uniprot:A7MCY6</td>\n",
       "    </tr>\n",
       "    <tr>\n",
       "      <th>7</th>\n",
       "      <td>intact:EBI-25490883</td>\n",
       "      <td>96fda12ecf3dcfec082377cc27e80e55</td>\n",
       "      <td>uniprot:P06280</td>\n",
       "    </tr>\n",
       "    <tr>\n",
       "      <th>8</th>\n",
       "      <td>intact:EBI-25490979</td>\n",
       "      <td>b6e8ea75d0679d091b1dc44cf395aaf4</td>\n",
       "      <td>uniprot:Q9NXH9</td>\n",
       "    </tr>\n",
       "    <tr>\n",
       "      <th>9</th>\n",
       "      <td>intact:EBI-25490993</td>\n",
       "      <td>99424071c355c54269f6cd3522680033</td>\n",
       "      <td>uniprot:O75964</td>\n",
       "    </tr>\n",
       "    <tr>\n",
       "      <th>10</th>\n",
       "      <td>intact:EBI-25490970</td>\n",
       "      <td>dc6436f559bc873ac013085f6e56d467</td>\n",
       "      <td>uniprot:Q92769</td>\n",
       "    </tr>\n",
       "    <tr>\n",
       "      <th>11</th>\n",
       "      <td>intact:EBI-25491011</td>\n",
       "      <td>173be79f5a6fd85a7edb5c75cdc41fa3</td>\n",
       "      <td>uniprot:O00116</td>\n",
       "    </tr>\n",
       "    <tr>\n",
       "      <th>12</th>\n",
       "      <td>intact:EBI-25490898</td>\n",
       "      <td>d7d018de059ea6b8c092267ff6371d38</td>\n",
       "      <td>uniprot:P61970</td>\n",
       "    </tr>\n",
       "    <tr>\n",
       "      <th>13</th>\n",
       "      <td>intact:EBI-25490913</td>\n",
       "      <td>073edb2349ddcd9a72ecd9f5c1dccdc4</td>\n",
       "      <td>uniprot:O14975</td>\n",
       "    </tr>\n",
       "    <tr>\n",
       "      <th>14</th>\n",
       "      <td>intact:EBI-25490940</td>\n",
       "      <td>6890e7e8e12f73c2dfdae6805ebc9c4f</td>\n",
       "      <td>uniprot:P14735</td>\n",
       "    </tr>\n",
       "    <tr>\n",
       "      <th>15</th>\n",
       "      <td>intact:EBI-25491308</td>\n",
       "      <td>20cfd282d01dd605a02d3d084ce320e9</td>\n",
       "      <td>uniprot:Q9UJZ1</td>\n",
       "    </tr>\n",
       "    <tr>\n",
       "      <th>16</th>\n",
       "      <td>intact:EBI-25491317</td>\n",
       "      <td>90b50e0be9abd893bd32b163d6933f0c</td>\n",
       "      <td>uniprot:P52948</td>\n",
       "    </tr>\n",
       "    <tr>\n",
       "      <th>17</th>\n",
       "      <td>intact:EBI-25491278</td>\n",
       "      <td>f5c8b89ceac3f14e456577557df1ef40</td>\n",
       "      <td>uniprot:P09601</td>\n",
       "    </tr>\n",
       "    <tr>\n",
       "      <th>18</th>\n",
       "      <td>intact:EBI-25491245</td>\n",
       "      <td>06bfef85cf1319e805e05f5bee3ec601</td>\n",
       "      <td>uniprot:P50897</td>\n",
       "    </tr>\n",
       "    <tr>\n",
       "      <th>19</th>\n",
       "      <td>intact:EBI-25491113</td>\n",
       "      <td>92ebecdcff1a59d6123f4e3133264695</td>\n",
       "      <td>uniprot:O00566</td>\n",
       "    </tr>\n",
       "    <tr>\n",
       "      <th>20</th>\n",
       "      <td>intact:EBI-25491191</td>\n",
       "      <td>8c32758bc2f4b49ed8c6dfe7caa7ea49</td>\n",
       "      <td>uniprot:P13984</td>\n",
       "    </tr>\n",
       "    <tr>\n",
       "      <th>21</th>\n",
       "      <td>intact:EBI-25491332</td>\n",
       "      <td>f65213344e2e68de1cae4feb9c5e07b1</td>\n",
       "      <td>uniprot:Q7Z4Q2</td>\n",
       "    </tr>\n",
       "    <tr>\n",
       "      <th>22</th>\n",
       "      <td>intact:EBI-25491344</td>\n",
       "      <td>14d0b1a958f970cb18618c9aa65493fa</td>\n",
       "      <td>uniprot:O00469</td>\n",
       "    </tr>\n",
       "    <tr>\n",
       "      <th>23</th>\n",
       "      <td>intact:EBI-25491493</td>\n",
       "      <td>9b66a6405fa5218ae819a76293365391</td>\n",
       "      <td>uniprot:O14745</td>\n",
       "    </tr>\n",
       "    <tr>\n",
       "      <th>24</th>\n",
       "      <td>intact:EBI-25491532</td>\n",
       "      <td>74fa328ac0995fdbe2a3a0b2c4389f59</td>\n",
       "      <td>uniprot:O00124</td>\n",
       "    </tr>\n",
       "    <tr>\n",
       "      <th>25</th>\n",
       "      <td>intact:EBI-25490574</td>\n",
       "      <td>b100d0849c3e01fc6c75ead0e916ce0f</td>\n",
       "      <td>uniprot:O43818</td>\n",
       "    </tr>\n",
       "    <tr>\n",
       "      <th>26</th>\n",
       "      <td>intact:EBI-25490625</td>\n",
       "      <td>4c35f09aac2f7be4f3cffd30c6aecac8</td>\n",
       "      <td>uniprot:Q7Z5G4</td>\n",
       "    </tr>\n",
       "  </tbody>\n",
       "</table>\n",
       "</div>"
      ],
      "text/plain": [
       "                     id                              sars            h_id\n",
       "0   intact:EBI-25490454  375e0f905c315e06a99c80b736c125d2  uniprot:O00203\n",
       "1   intact:EBI-25490478  1cd6abff79ad3633e17582eb0e576539  uniprot:Q9BW92\n",
       "2   intact:EBI-25490637  5c2c364f44079728c451280435c4236a  uniprot:Q8NBJ5\n",
       "3   intact:EBI-25490682  63d2c81f37726f44c600eb5225676a66  uniprot:O75347\n",
       "4   intact:EBI-25490661  af0cec59296f3c845a7b04500cd6886b  uniprot:O94973\n",
       "5   intact:EBI-25490691  b88e641d00c17a3ce19cc9852c37717c  uniprot:A3KN83\n",
       "6   intact:EBI-25490757  a489cf148afc7205eec14549ffe4ebfd  uniprot:A7MCY6\n",
       "7   intact:EBI-25490883  96fda12ecf3dcfec082377cc27e80e55  uniprot:P06280\n",
       "8   intact:EBI-25490979  b6e8ea75d0679d091b1dc44cf395aaf4  uniprot:Q9NXH9\n",
       "9   intact:EBI-25490993  99424071c355c54269f6cd3522680033  uniprot:O75964\n",
       "10  intact:EBI-25490970  dc6436f559bc873ac013085f6e56d467  uniprot:Q92769\n",
       "11  intact:EBI-25491011  173be79f5a6fd85a7edb5c75cdc41fa3  uniprot:O00116\n",
       "12  intact:EBI-25490898  d7d018de059ea6b8c092267ff6371d38  uniprot:P61970\n",
       "13  intact:EBI-25490913  073edb2349ddcd9a72ecd9f5c1dccdc4  uniprot:O14975\n",
       "14  intact:EBI-25490940  6890e7e8e12f73c2dfdae6805ebc9c4f  uniprot:P14735\n",
       "15  intact:EBI-25491308  20cfd282d01dd605a02d3d084ce320e9  uniprot:Q9UJZ1\n",
       "16  intact:EBI-25491317  90b50e0be9abd893bd32b163d6933f0c  uniprot:P52948\n",
       "17  intact:EBI-25491278  f5c8b89ceac3f14e456577557df1ef40  uniprot:P09601\n",
       "18  intact:EBI-25491245  06bfef85cf1319e805e05f5bee3ec601  uniprot:P50897\n",
       "19  intact:EBI-25491113  92ebecdcff1a59d6123f4e3133264695  uniprot:O00566\n",
       "20  intact:EBI-25491191  8c32758bc2f4b49ed8c6dfe7caa7ea49  uniprot:P13984\n",
       "21  intact:EBI-25491332  f65213344e2e68de1cae4feb9c5e07b1  uniprot:Q7Z4Q2\n",
       "22  intact:EBI-25491344  14d0b1a958f970cb18618c9aa65493fa  uniprot:O00469\n",
       "23  intact:EBI-25491493  9b66a6405fa5218ae819a76293365391  uniprot:O14745\n",
       "24  intact:EBI-25491532  74fa328ac0995fdbe2a3a0b2c4389f59  uniprot:O00124\n",
       "25  intact:EBI-25490574  b100d0849c3e01fc6c75ead0e916ce0f  uniprot:O43818\n",
       "26  intact:EBI-25490625  4c35f09aac2f7be4f3cffd30c6aecac8  uniprot:Q7Z5G4"
      ]
     },
     "execution_count": 12,
     "metadata": {},
     "output_type": "execute_result"
    }
   ],
   "source": [
    "#!\"$NEO4J_HOME\"\\bin\\cypher-shell -u neo4j -p neo4jbinder -host 127.0.0.1 -port 1337\n",
    "\n",
    "query = \"\"\"\n",
    "MATCH (p:interactions)\n",
    "RETURN p.Interaction_ID as id, p.SARS_COV2_Protein_ID as sars, p.Human_Protein_ID as h_id\n",
    "\"\"\"\n",
    "# query = \"\"\"\n",
    "# MATCH (p:human_data)\n",
    "# RETURN p.Human_Protein_ID as id, p.Human_Protein_Name as pname\n",
    "# \"\"\"\n",
    "\n",
    "graph.run(query).to_data_frame()"
   ]
  },
  {
   "cell_type": "code",
   "execution_count": 24,
   "metadata": {},
   "outputs": [
    {
     "name": "stdout",
     "output_type": "stream",
     "text": [
      "Neo4j service stopped\n"
     ]
    }
   ],
   "source": [
    "!\"$NEO4J_HOME\"\\bin\\neo4j stop"
   ]
  }
 ],
 "metadata": {
  "kernelspec": {
   "display_name": "Python 3",
   "language": "python",
   "name": "python3"
  },
  "language_info": {
   "codemirror_mode": {
    "name": "ipython",
    "version": 3
   },
   "file_extension": ".py",
   "mimetype": "text/x-python",
   "name": "python",
   "nbconvert_exporter": "python",
   "pygments_lexer": "ipython3",
   "version": "3.7.7"
  }
 },
 "nbformat": 4,
 "nbformat_minor": 4
}
