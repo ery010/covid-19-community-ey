{
 "cells": [
  {
   "cell_type": "code",
   "execution_count": 1,
   "metadata": {},
   "outputs": [],
   "source": [
    "import os\n",
    "import time\n",
    "import pandas as pd\n",
    "from py2neo import Graph\n",
    "import hashlib"
   ]
  },
  {
   "cell_type": "code",
   "execution_count": 2,
   "metadata": {},
   "outputs": [],
   "source": [
    "pd.options.display.max_rows = None  # display all rows\n",
    "pd.options.display.max_columns = None  # display all columns"
   ]
  },
  {
   "cell_type": "code",
   "execution_count": 18,
   "metadata": {},
   "outputs": [
    {
     "name": "stdout",
     "output_type": "stream",
     "text": [
      "C:\\Users\\ericy\\.Neo4jDesktop\\neo4jDatabases\\database-648d6182-7a2c-4fe8-b4cb-63ba7c4737da\\installation-4.0.3\n"
     ]
    }
   ],
   "source": [
    "def get_neo4j_path(path):\n",
    "    \"\"\"\n",
    "    Function to retrieve the local path to Neo4J.\n",
    "    \n",
    "    :param path: Local path variable to Neo4J.\n",
    "    \"\"\"\n",
    "    NEO4J_HOME = os.getenv(path)\n",
    "    print(NEO4J_HOME)\n",
    "    \n",
    "get_neo4j_path(\"NEO4J_HOME\")"
   ]
  },
  {
   "cell_type": "code",
   "execution_count": 75,
   "metadata": {},
   "outputs": [
    {
     "name": "stdout",
     "output_type": "stream",
     "text": [
      "Neo4j service started\n"
     ]
    }
   ],
   "source": [
    "# Start Neo4J service\n",
    "!\"$NEO4J_HOME\"\\bin\\neo4j start"
   ]
  },
  {
   "cell_type": "code",
   "execution_count": 25,
   "metadata": {},
   "outputs": [],
   "source": [
    "!.\\run_cyphers_ey.sh"
   ]
  },
  {
   "cell_type": "code",
   "execution_count": 26,
   "metadata": {},
   "outputs": [],
   "source": [
    "def make_clickable(val):\n",
    "    return f'<a target=\"_blank\" href=\"{val}\">{val}</a>'"
   ]
  },
  {
   "cell_type": "code",
   "execution_count": 76,
   "metadata": {},
   "outputs": [],
   "source": [
    "# Connect to Graph locally\n",
    "graph = Graph(\"bolt://localhost:11006\", auth=(\"neo4j\", \"neo4jbinder\"))"
   ]
  },
  {
   "cell_type": "code",
   "execution_count": 90,
   "metadata": {
    "scrolled": true
   },
   "outputs": [
    {
     "data": {
      "text/html": [
       "<div>\n",
       "<style scoped>\n",
       "    .dataframe tbody tr th:only-of-type {\n",
       "        vertical-align: middle;\n",
       "    }\n",
       "\n",
       "    .dataframe tbody tr th {\n",
       "        vertical-align: top;\n",
       "    }\n",
       "\n",
       "    .dataframe thead th {\n",
       "        text-align: right;\n",
       "    }\n",
       "</style>\n",
       "<table border=\"1\" class=\"dataframe\">\n",
       "  <thead>\n",
       "    <tr style=\"text-align: right;\">\n",
       "      <th></th>\n",
       "      <th>row.SARS_COV2_Protein_ID</th>\n",
       "      <th>row.Human_Protein_ID</th>\n",
       "    </tr>\n",
       "    <tr>\n",
       "      <th>row.Interaction_ID</th>\n",
       "      <th></th>\n",
       "      <th></th>\n",
       "    </tr>\n",
       "  </thead>\n",
       "  <tbody>\n",
       "    <tr>\n",
       "      <th>intact:EBI-25490454</th>\n",
       "      <td>6</td>\n",
       "      <td>6</td>\n",
       "    </tr>\n",
       "    <tr>\n",
       "      <th>intact:EBI-25490478</th>\n",
       "      <td>30</td>\n",
       "      <td>30</td>\n",
       "    </tr>\n",
       "    <tr>\n",
       "      <th>intact:EBI-25490574</th>\n",
       "      <td>15</td>\n",
       "      <td>15</td>\n",
       "    </tr>\n",
       "    <tr>\n",
       "      <th>intact:EBI-25490625</th>\n",
       "      <td>2</td>\n",
       "      <td>2</td>\n",
       "    </tr>\n",
       "    <tr>\n",
       "      <th>intact:EBI-25490637</th>\n",
       "      <td>6</td>\n",
       "      <td>6</td>\n",
       "    </tr>\n",
       "    <tr>\n",
       "      <th>intact:EBI-25490661</th>\n",
       "      <td>5</td>\n",
       "      <td>5</td>\n",
       "    </tr>\n",
       "    <tr>\n",
       "      <th>intact:EBI-25490682</th>\n",
       "      <td>1</td>\n",
       "      <td>1</td>\n",
       "    </tr>\n",
       "    <tr>\n",
       "      <th>intact:EBI-25490691</th>\n",
       "      <td>20</td>\n",
       "      <td>20</td>\n",
       "    </tr>\n",
       "    <tr>\n",
       "      <th>intact:EBI-25490757</th>\n",
       "      <td>40</td>\n",
       "      <td>40</td>\n",
       "    </tr>\n",
       "    <tr>\n",
       "      <th>intact:EBI-25490883</th>\n",
       "      <td>3</td>\n",
       "      <td>3</td>\n",
       "    </tr>\n",
       "    <tr>\n",
       "      <th>intact:EBI-25490898</th>\n",
       "      <td>3</td>\n",
       "      <td>3</td>\n",
       "    </tr>\n",
       "    <tr>\n",
       "      <th>intact:EBI-25490913</th>\n",
       "      <td>7</td>\n",
       "      <td>7</td>\n",
       "    </tr>\n",
       "    <tr>\n",
       "      <th>intact:EBI-25490940</th>\n",
       "      <td>8</td>\n",
       "      <td>8</td>\n",
       "    </tr>\n",
       "    <tr>\n",
       "      <th>intact:EBI-25490970</th>\n",
       "      <td>1</td>\n",
       "      <td>1</td>\n",
       "    </tr>\n",
       "    <tr>\n",
       "      <th>intact:EBI-25490979</th>\n",
       "      <td>2</td>\n",
       "      <td>2</td>\n",
       "    </tr>\n",
       "    <tr>\n",
       "      <th>intact:EBI-25490993</th>\n",
       "      <td>4</td>\n",
       "      <td>4</td>\n",
       "    </tr>\n",
       "    <tr>\n",
       "      <th>intact:EBI-25491011</th>\n",
       "      <td>32</td>\n",
       "      <td>32</td>\n",
       "    </tr>\n",
       "    <tr>\n",
       "      <th>intact:EBI-25491113</th>\n",
       "      <td>24</td>\n",
       "      <td>24</td>\n",
       "    </tr>\n",
       "    <tr>\n",
       "      <th>intact:EBI-25491191</th>\n",
       "      <td>16</td>\n",
       "      <td>16</td>\n",
       "    </tr>\n",
       "    <tr>\n",
       "      <th>intact:EBI-25491245</th>\n",
       "      <td>9</td>\n",
       "      <td>9</td>\n",
       "    </tr>\n",
       "    <tr>\n",
       "      <th>intact:EBI-25491278</th>\n",
       "      <td>8</td>\n",
       "      <td>8</td>\n",
       "    </tr>\n",
       "    <tr>\n",
       "      <th>intact:EBI-25491308</th>\n",
       "      <td>1</td>\n",
       "      <td>1</td>\n",
       "    </tr>\n",
       "    <tr>\n",
       "      <th>intact:EBI-25491317</th>\n",
       "      <td>3</td>\n",
       "      <td>3</td>\n",
       "    </tr>\n",
       "    <tr>\n",
       "      <th>intact:EBI-25491332</th>\n",
       "      <td>2</td>\n",
       "      <td>2</td>\n",
       "    </tr>\n",
       "    <tr>\n",
       "      <th>intact:EBI-25491344</th>\n",
       "      <td>47</td>\n",
       "      <td>47</td>\n",
       "    </tr>\n",
       "    <tr>\n",
       "      <th>intact:EBI-25491493</th>\n",
       "      <td>11</td>\n",
       "      <td>11</td>\n",
       "    </tr>\n",
       "    <tr>\n",
       "      <th>intact:EBI-25491532</th>\n",
       "      <td>26</td>\n",
       "      <td>26</td>\n",
       "    </tr>\n",
       "  </tbody>\n",
       "</table>\n",
       "</div>"
      ],
      "text/plain": [
       "                     row.SARS_COV2_Protein_ID  row.Human_Protein_ID\n",
       "row.Interaction_ID                                                 \n",
       "intact:EBI-25490454                         6                     6\n",
       "intact:EBI-25490478                        30                    30\n",
       "intact:EBI-25490574                        15                    15\n",
       "intact:EBI-25490625                         2                     2\n",
       "intact:EBI-25490637                         6                     6\n",
       "intact:EBI-25490661                         5                     5\n",
       "intact:EBI-25490682                         1                     1\n",
       "intact:EBI-25490691                        20                    20\n",
       "intact:EBI-25490757                        40                    40\n",
       "intact:EBI-25490883                         3                     3\n",
       "intact:EBI-25490898                         3                     3\n",
       "intact:EBI-25490913                         7                     7\n",
       "intact:EBI-25490940                         8                     8\n",
       "intact:EBI-25490970                         1                     1\n",
       "intact:EBI-25490979                         2                     2\n",
       "intact:EBI-25490993                         4                     4\n",
       "intact:EBI-25491011                        32                    32\n",
       "intact:EBI-25491113                        24                    24\n",
       "intact:EBI-25491191                        16                    16\n",
       "intact:EBI-25491245                         9                     9\n",
       "intact:EBI-25491278                         8                     8\n",
       "intact:EBI-25491308                         1                     1\n",
       "intact:EBI-25491317                         3                     3\n",
       "intact:EBI-25491332                         2                     2\n",
       "intact:EBI-25491344                        47                    47\n",
       "intact:EBI-25491493                        11                    11\n",
       "intact:EBI-25491532                        26                    26"
      ]
     },
     "execution_count": 90,
     "metadata": {},
     "output_type": "execute_result"
    }
   ],
   "source": [
    "query1 = \"\"\"\n",
    "LOAD CSV WITH HEADERS FROM 'FILE:///interactions.csv' AS row \n",
    "RETURN row.Interaction_ID, row.SARS_COV2_Protein_ID, row.Human_Protein_ID\n",
    "\"\"\"\n",
    "query2 = \"\"\"\n",
    "LOAD CSV WITH HEADERS FROM 'FILE:///human_data.csv' AS row \n",
    "RETURN row.Human_Protein_ID, row.Human_Protein_Name\n",
    "\"\"\"\n",
    "query3 = \"\"\"\n",
    "LOAD CSV WITH HEADERS FROM 'FILE:///virus_data.csv' AS row \n",
    "RETURN row.SARS_COV2_Protein_ID, row.SARS_COV2_Identifier, row.SARS_COV2_Protein_Name, row.Sequence, row.Length, row.`Start Pos`, row.`End Pos`\n",
    "\"\"\"\n",
    "query4 = \"\"\"\n",
    "LOAD CSV WITH HEADERS FROM 'FILE:///human_alias.csv' AS row \n",
    "RETURN row.Human_Protein_ID, row.Alt_intact_ID, row.Alt_uniprot_ID\n",
    "\"\"\"\n",
    "query5 = \"\"\"\n",
    "LOAD CSV WITH HEADERS FROM 'FILE:///virus_alias.csv' AS row \n",
    "RETURN row.SARS_COV2_Protein_ID, row.Alt_uniprot_ID, row.Alt_intact_ID\n",
    "\"\"\"\n",
    "graph.run(query1).to_data_frame().groupby(\"row.Interaction_ID\").count()"
   ]
  },
  {
   "cell_type": "code",
   "execution_count": 30,
   "metadata": {},
   "outputs": [
    {
     "name": "stdout",
     "output_type": "stream",
     "text": [
      "Neo4j service stopped\n"
     ]
    }
   ],
   "source": [
    "# Stop Neo4J service\n",
    "!\"$NEO4J_HOME\"\\bin\\neo4j stop"
   ]
  }
 ],
 "metadata": {
  "kernelspec": {
   "display_name": "Python 3",
   "language": "python",
   "name": "python3"
  },
  "language_info": {
   "codemirror_mode": {
    "name": "ipython",
    "version": 3
   },
   "file_extension": ".py",
   "mimetype": "text/x-python",
   "name": "python",
   "nbconvert_exporter": "python",
   "pygments_lexer": "ipython3",
   "version": "3.7.7"
  }
 },
 "nbformat": 4,
 "nbformat_minor": 4
}
